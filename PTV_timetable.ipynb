{
 "cells": [
  {
   "cell_type": "code",
   "execution_count": null,
   "id": "a7f1b7ef",
   "metadata": {},
   "outputs": [],
   "source": [
    "# for code to work download GTFS file from \"https://transitfeeds.com/p/ptv/497\" and unzip to \"GTFS_single\" directory\n",
    "# rename files from txt to csv\n",
    "# Vic governemnet website data is available at \"https://discover.data.vic.gov.au/dataset/ptv-timetable-and-geographic-information-2015-gtfs\"\n",
    "# Vic data is in 10 separate zip files and may need to be combined\n",
    "# GTFS info is avaialble at: \"https://developers.google.com/transit/gtfs/reference\"\n",
    "# Melbourne suburb names were obtained from \"https://www.homely.com.au/find-suburb-by-region/melbourne-greater-victoria\"\n",
    "#suburbs names were copied and pasted into a csv (greater_melbourne_suburbs.csv) file with \"Suburb\" column header"
   ]
  },
  {
   "cell_type": "code",
   "execution_count": 131,
   "id": "85460c88",
   "metadata": {},
   "outputs": [],
   "source": [
    "# Dependencies\n",
    "import requests\n",
    "import json\n",
    "import hvplot.pandas\n",
    "import pandas as pd\n",
    "import requests\n",
    "\n",
    "# Import the API key\n",
    "from config import geoapify_key    \n",
    "    "
   ]
  },
  {
   "cell_type": "code",
   "execution_count": 199,
   "id": "209552e7",
   "metadata": {},
   "outputs": [
    {
     "name": "stdout",
     "output_type": "stream",
     "text": [
      "            Suburbs\n",
      "0        Abbotsford\n",
      "1        Aberfeldie\n",
      "2           Aintree\n",
      "3      Airport West\n",
      "4         Albanvale\n",
      "..              ...\n",
      "518  Yarra Junction\n",
      "519       Yarrambat\n",
      "520      Yarraville\n",
      "521       Yellingbo\n",
      "522          Yering\n",
      "\n",
      "[523 rows x 1 columns]\n"
     ]
    }
   ],
   "source": [
    "# Load the CSV file\n",
    "calendar_df = pd.read_csv(\"GTFS_single/calendar.csv\")\n",
    "trips_df = pd.read_csv(\"GTFS_single/trips.csv\")\n",
    "stop_times_df = pd.read_csv(\"GTFS_single/stop_times.csv\")\n",
    "stops_df = pd.read_csv(\"GTFS_single/stops.csv\")\n",
    "# add extra column to stops file with suburb name extracted\n",
    "stops_df[\"suburb\"] = stops_df['stop_name'].str.split(\"(\").str[1]\n",
    "stops_df[\"suburb\"] = stops_df['suburb'].str.split(\")\").str[0]\n",
    "gms_df = pd.read_csv(\"greater_melbourne_suburbs.csv\")\n",
    "\n",
    "# Create a weekday only (single day) calendare dataframe (limit the data we work with)\n",
    "# This is the base line for all calculations\n",
    "weekday_df = calendar_df.loc[(calendar_df[\"wednesday\"]==1) & (calendar_df[\"start_date\"] <= 20230112) & (calendar_df[\"end_date\"]>= 20230105)]\n",
    "\n",
    "# test print of suburbs\n",
    "print(gms_df)\n"
   ]
  },
  {
   "cell_type": "code",
   "execution_count": 206,
   "id": "5370093e",
   "metadata": {},
   "outputs": [
    {
     "name": "stdout",
     "output_type": "stream",
     "text": [
      "       stop_id                               stop_name   stop_lat    stop_lon  \\\n",
      "360        103   Nicholson St/Johnston St (Abbotsford) -37.800265  144.998067   \n",
      "529        105  Trenerry Cres/Johnston St (Abbotsford) -37.800484  145.000378   \n",
      "608        106      Clarke St/Johnston St (Abbotsford) -37.800626  145.001817   \n",
      "1139      1129     Langridge St/Hoddle St (Abbotsford) -37.806948  144.992014   \n",
      "1146      1130         Gipps St/Hoddle St (Abbotsford) -37.804764  144.992380   \n",
      "...        ...                                     ...        ...         ...   \n",
      "26760     8991      Geelong Rd/Angliss St (Yarraville) -37.812253  144.866830   \n",
      "26761     8992   Somerville Rd/Geelong Rd (Yarraville) -37.811559  144.868792   \n",
      "26762     8993        Simpson St/Fehon St (Yarraville) -37.816919  144.887188   \n",
      "26763     8995          Hance St/Fehon St (Yarraville) -37.820432  144.886611   \n",
      "26764     8996       Powell St/Francis St (Yarraville) -37.820499  144.884848   \n",
      "\n",
      "           suburb  \n",
      "360    Abbotsford  \n",
      "529    Abbotsford  \n",
      "608    Abbotsford  \n",
      "1139   Abbotsford  \n",
      "1146   Abbotsford  \n",
      "...           ...  \n",
      "26760  Yarraville  \n",
      "26761  Yarraville  \n",
      "26762  Yarraville  \n",
      "26763  Yarraville  \n",
      "26764  Yarraville  \n",
      "\n",
      "[20152 rows x 5 columns]\n"
     ]
    }
   ],
   "source": [
    "# create a melbourne only stop list\n",
    "melbourne = gms_df[\"Suburbs\"]\n",
    "melbourne_stops_wd_df = pd.DataFrame()\n",
    "for i in melbourne:\n",
    "#     print(i)\n",
    "    stops_suburbs_wd_df = stops_df.loc[stops_df[\"suburb\"] ==  i]\n",
    "#     print(stops_suburbs_wd_df)\n",
    "    melbourne_stops_wd_df = pd.concat([melbourne_stops_wd_df, stops_suburbs_wd_df], axis=0)\n",
    "\n",
    "print(melbourne_stops_wd_df)"
   ]
  },
  {
   "cell_type": "code",
   "execution_count": 146,
   "id": "ad9e0e94",
   "metadata": {},
   "outputs": [
    {
     "name": "stdout",
     "output_type": "stream",
     "text": [
      "             route_id service_id                    trip_id  \\\n",
      "16      1-Ech-D-mjp-1       1_T0  9601.T0.1-Ech-D-mjp-1.5.R   \n",
      "17      1-Ech-D-mjp-1       1_T0  9602.T0.1-Ech-D-mjp-1.5.R   \n",
      "18      1-Ech-D-mjp-1       1_T0  9603.T0.1-Ech-D-mjp-1.5.R   \n",
      "19      1-Ech-D-mjp-1       1_T0  9604.T0.1-Ech-D-mjp-1.6.R   \n",
      "20      1-Ech-D-mjp-1       1_T0  9825.T0.1-Ech-D-mjp-1.2.H   \n",
      "...               ...        ...                        ...   \n",
      "254874    6-R53-mjp-1    6_T0+pr    6341.T0.6-R53-mjp-1.1.H   \n",
      "247018    6-C27-mjp-1  6_T0+pr_1     850.T0.6-C27-mjp-1.1.H   \n",
      "247019    6-C27-mjp-1  6_T0+pr_1     851.T0.6-C27-mjp-1.2.R   \n",
      "241153    6-89x-mjp-1    6_T0+pt    8863.T0.6-89x-mjp-1.1.H   \n",
      "241154    6-89x-mjp-1    6_T0+pt    8864.T0.6-89x-mjp-1.1.H   \n",
      "\n",
      "                 shape_id trip_headsign  direction_id  \n",
      "16      1-Ech-D-mjp-1.5.R     Melbourne             1  \n",
      "17      1-Ech-D-mjp-1.5.R     Melbourne             1  \n",
      "18      1-Ech-D-mjp-1.5.R     Melbourne             1  \n",
      "19      1-Ech-D-mjp-1.6.R     Melbourne             1  \n",
      "20      1-Ech-D-mjp-1.2.H  Echuca/Moama             0  \n",
      "...                   ...           ...           ...  \n",
      "254874    6-R53-mjp-1.1.H    Wangaratta             0  \n",
      "247018    6-C27-mjp-1.1.H     Delacombe             0  \n",
      "247019    6-C27-mjp-1.2.R   Smythesdale             1  \n",
      "241153    6-89x-mjp-1.1.H    Daylesford             0  \n",
      "241154    6-89x-mjp-1.1.H    Daylesford             0  \n",
      "\n",
      "[37199 rows x 6 columns]\n"
     ]
    }
   ],
   "source": [
    "# extracting data from trips.csv to get trip_id from Weekday (single day) calendar\n",
    "service_id_wd = weekday_df[\"service_id\"]\n",
    "# print(service_id_wd)\n",
    "trips_extract_wd_df = pd.DataFrame()\n",
    "# print(trips_extract_wd_df)\n",
    "service_id\n",
    "for i in service_id_wd:\n",
    "#     print(i)\n",
    "    trip_service_id_wd_df = trips_df.loc[trips_df[\"service_id\"] ==  i]\n",
    "#     print(trip_service_id_wd_df)\n",
    "    trips_extract_wd_df = pd.concat([trips_extract_wd_df, trip_service_id_wd_df], axis=0)\n",
    "#     trips_extract_df = trips_extract_df.append(trip_service_id_df)\n",
    "print(trips_extract_wd_df)"
   ]
  },
  {
   "cell_type": "code",
   "execution_count": 161,
   "id": "5cc32248",
   "metadata": {},
   "outputs": [
    {
     "name": "stdout",
     "output_type": "stream",
     "text": [
      "37199\n",
      "256966\n"
     ]
    }
   ],
   "source": [
    "# just checking  original file length vs reduced data - this is not needed for the code\n",
    "unique_trip_id = trips_extract_wd_df[\"trip_id\"].unique()\n",
    "print(len(unique_trip_id))\n",
    "print(len(trips_df))\n",
    "\n",
    "# Save the file so we do not have to extract again \n",
    "trips_extract_wd_df.to_csv(\"trips_extract_wd_df.csv\")\n",
    "      "
   ]
  },
  {
   "cell_type": "code",
   "execution_count": 148,
   "id": "32c323e5",
   "metadata": {},
   "outputs": [
    {
     "name": "stdout",
     "output_type": "stream",
     "text": [
      "                           trip_id arrival_time departure_time  stop_id  \\\n",
      "77235    9601.T0.1-Ech-D-mjp-1.5.R     11:04:00       11:04:00    20310   \n",
      "77236    9601.T0.1-Ech-D-mjp-1.5.R     11:27:00       11:27:00    20338   \n",
      "77237    9601.T0.1-Ech-D-mjp-1.5.R     11:42:00       11:42:00    20311   \n",
      "77238    9601.T0.1-Ech-D-mjp-1.5.R     11:56:00       11:56:00    51809   \n",
      "77239    9601.T0.1-Ech-D-mjp-1.5.R     12:04:00       12:04:00    49296   \n",
      "...                            ...          ...            ...      ...   \n",
      "9187493    8864.T0.6-89x-mjp-1.1.H     16:00:00       16:00:00    17148   \n",
      "9187494    8864.T0.6-89x-mjp-1.1.H     16:11:12       16:11:12    22939   \n",
      "9187495    8864.T0.6-89x-mjp-1.1.H     16:15:00       16:15:00    22940   \n",
      "9187496    8864.T0.6-89x-mjp-1.1.H     16:18:53       16:18:53    48661   \n",
      "9187497    8864.T0.6-89x-mjp-1.1.H     16:30:00       16:30:00    17148   \n",
      "\n",
      "         stop_sequence  stop_headsign  pickup_type  drop_off_type  \\\n",
      "77235                1            NaN            0              0   \n",
      "77236                2            NaN            0              0   \n",
      "77237                3            NaN            0              0   \n",
      "77238                4            NaN            0              0   \n",
      "77239                5            NaN            0              0   \n",
      "...                ...            ...          ...            ...   \n",
      "9187493              1            NaN            0              0   \n",
      "9187494              2            NaN            0              0   \n",
      "9187495              3            NaN            0              0   \n",
      "9187496              4            NaN            0              0   \n",
      "9187497              5            NaN            0              0   \n",
      "\n",
      "         shape_dist_traveled  \n",
      "77235                   0.00  \n",
      "77236               26604.81  \n",
      "77237               43450.16  \n",
      "77238               60410.33  \n",
      "77239               73627.17  \n",
      "...                      ...  \n",
      "9187493                 0.00  \n",
      "9187494              3248.66  \n",
      "9187495              4204.93  \n",
      "9187496              5195.25  \n",
      "9187497              8248.68  \n",
      "\n",
      "[1303699 rows x 9 columns]\n"
     ]
    }
   ],
   "source": [
    "# extracting stop_id from stop_times.csv - drilling  further linking the trips file\n",
    "trip_id_wd = trips_extract_wd_df[\"trip_id\"]\n",
    "trip_id_wd\n",
    "# print(stop_times_df.head())\n",
    "stops_extract_wd_df = pd.DataFrame()\n",
    "# service_id\n",
    "for i in trip_id_wd:\n",
    "#     print(i)\n",
    "    stop_times_trip_id_wd_df = stop_times_df.loc[stop_times_df[\"trip_id\"] ==  i]\n",
    "#     print(stop_times_trip_id_wd_df.head())\n",
    "    stops_extract_wd_df = pd.concat([stops_extract_wd_df, stop_times_trip_id_wd_df], axis=0)\n",
    "print(stops_extract_wd_df)"
   ]
  },
  {
   "cell_type": "code",
   "execution_count": 149,
   "id": "05702999",
   "metadata": {},
   "outputs": [],
   "source": [
    "# Save the file so we do not have to extract again - extraction took overnight\n",
    "stops_extract_wd_df.to_csv(\"stops_extract_wd_df.csv\")"
   ]
  },
  {
   "cell_type": "code",
   "execution_count": 207,
   "id": "eacbd8f8",
   "metadata": {},
   "outputs": [
    {
     "data": {
      "text/plain": [
       "<bound method NDFrame.head of                            trip_id arrival_time departure_time  stop_id  \\\n",
       "0        9601.T0.1-Ech-D-mjp-1.5.R     13:52:00       13:52:00    19998   \n",
       "1        9602.T0.1-Ech-D-mjp-1.5.R     17:52:00       17:52:00    19998   \n",
       "2        9603.T0.1-Ech-D-mjp-1.5.R     10:11:00       10:11:00    19998   \n",
       "3        9825.T0.1-Ech-D-mjp-1.2.H     07:32:00       07:32:00    19998   \n",
       "4        9826.T0.1-Ech-D-mjp-1.4.H     15:37:00       15:37:00    19998   \n",
       "...                            ...          ...            ...      ...   \n",
       "1114438    2038.T0.6-w28-mjp-1.1.H     18:24:00       18:24:00    45031   \n",
       "1114439    2057.T0.6-w41-mjp-1.1.H     17:09:00       17:09:00    45031   \n",
       "1114440    2044.T0.6-w33-mjp-1.1.H     06:49:00       06:49:00    21465   \n",
       "1114441    2056.T0.6-w40-mjp-1.1.H     17:54:00       17:54:00    45051   \n",
       "1114442    2057.T0.6-w41-mjp-1.1.H     16:58:00       16:58:00    45051   \n",
       "\n",
       "         stop_sequence  stop_headsign  pickup_type  drop_off_type  \\\n",
       "0                   17            NaN            0              0   \n",
       "1                   17            NaN            0              0   \n",
       "2                   17            NaN            0              0   \n",
       "3                    7            NaN            0              0   \n",
       "4                    7            NaN            0              0   \n",
       "...                ...            ...          ...            ...   \n",
       "1114438              3            NaN            0              0   \n",
       "1114439              9            NaN            0              0   \n",
       "1114440              2            NaN            0              0   \n",
       "1114441             15            NaN            0              0   \n",
       "1114442              6            NaN            0              0   \n",
       "\n",
       "         shape_dist_traveled  \\\n",
       "0                  212500.81   \n",
       "1                  212500.81   \n",
       "2                  212500.81   \n",
       "3                   38260.55   \n",
       "4                   38260.55   \n",
       "...                      ...   \n",
       "1114438              9134.22   \n",
       "1114439             35093.81   \n",
       "1114440              3545.89   \n",
       "1114441             55015.85   \n",
       "1114442             22234.29   \n",
       "\n",
       "                                                 stop_name   stop_lat  \\\n",
       "0                        Sunbury Railway Station (Sunbury) -37.579206   \n",
       "1                        Sunbury Railway Station (Sunbury) -37.579206   \n",
       "2                        Sunbury Railway Station (Sunbury) -37.579206   \n",
       "3                        Sunbury Railway Station (Sunbury) -37.579206   \n",
       "4                        Sunbury Railway Station (Sunbury) -37.579206   \n",
       "...                                                    ...        ...   \n",
       "1114438  Nar Nar Goon Railway Station/Carney St (Nar Na... -38.082138   \n",
       "1114439  Nar Nar Goon Railway Station/Carney St (Nar Na... -38.082138   \n",
       "1114440  Bunyip Primary School/Nar Nar Goon-Longwarry R... -38.098907   \n",
       "1114441  Bunyip Primary School/Nar Nar Goon-Longwarry R... -38.098991   \n",
       "1114442  Bunyip Primary School/Nar Nar Goon-Longwarry R... -38.098991   \n",
       "\n",
       "           stop_lon        suburb  \n",
       "0        144.728165       Sunbury  \n",
       "1        144.728165       Sunbury  \n",
       "2        144.728165       Sunbury  \n",
       "3        144.728165       Sunbury  \n",
       "4        144.728165       Sunbury  \n",
       "...             ...           ...  \n",
       "1114438  145.570618  Nar Nar Goon  \n",
       "1114439  145.570618  Nar Nar Goon  \n",
       "1114440  145.714717        Bunyip  \n",
       "1114441  145.715046        Bunyip  \n",
       "1114442  145.715046        Bunyip  \n",
       "\n",
       "[1114443 rows x 13 columns]>"
      ]
     },
     "execution_count": 207,
     "metadata": {},
     "output_type": "execute_result"
    }
   ],
   "source": [
    "# Merge two dataframes using an inner join Adding stop names and GPS coordinates and suburb to trips\n",
    "merge_df = pd.merge(stops_extract_wd_df, melbourne_stops_wd_df, on=\"stop_id\")\n",
    "merge_df.head"
   ]
  },
  {
   "cell_type": "code",
   "execution_count": 165,
   "id": "16c380e0",
   "metadata": {},
   "outputs": [],
   "source": [
    "# save the file so we do not have to extract again\n",
    "merge_df.to_csv(\"merge_df.csv\")"
   ]
  },
  {
   "cell_type": "code",
   "execution_count": 214,
   "id": "01369e39",
   "metadata": {},
   "outputs": [],
   "source": [
    "# Create alist of suburbs and number of trips for a single day\n",
    "# NOTE THIS STILL NEEDS TO  BE CLEANED ALL COLUMNS WILL STATE THE NUMBER OF  TRIPS IN A SUBURB\n",
    "# TO RENAME FIRST COLUMN AND DELETE ALL OTHERS\n",
    "\n",
    "suburb_group_df = merge_df.groupby([\"suburb\"])\n",
    "suburb_group_df.count()\n",
    "# Save the file - this is the end data for other cross rferences\n",
    "suburb_group_df.count().to_csv(\"suburb_group_df.csv\")"
   ]
  },
  {
   "cell_type": "code",
   "execution_count": 163,
   "id": "b28b34b0",
   "metadata": {},
   "outputs": [],
   "source": [
    "# random check to  ensure that the timetable at stop is accurate.\n",
    "# I checked 2 stops near my house with 1 and 2 bus services at each stop. number of services were accurate\n",
    "stop_check_df = merge_df.loc[merge_df[\"stop_id\"] == 6210]\n",
    "stop_check_df.to_csv(\"6210.csv\")"
   ]
  },
  {
   "cell_type": "code",
   "execution_count": null,
   "id": "21b04404",
   "metadata": {},
   "outputs": [],
   "source": []
  },
  {
   "cell_type": "code",
   "execution_count": null,
   "id": "2cec2328",
   "metadata": {},
   "outputs": [],
   "source": []
  },
  {
   "cell_type": "code",
   "execution_count": null,
   "id": "ef1d2e24",
   "metadata": {},
   "outputs": [],
   "source": []
  },
  {
   "cell_type": "code",
   "execution_count": null,
   "id": "43e3cd2d",
   "metadata": {},
   "outputs": [],
   "source": []
  },
  {
   "cell_type": "code",
   "execution_count": null,
   "id": "7fc19e24",
   "metadata": {},
   "outputs": [],
   "source": []
  }
 ],
 "metadata": {
  "kernelspec": {
   "display_name": "Python 3 (ipykernel)",
   "language": "python",
   "name": "python3"
  },
  "language_info": {
   "codemirror_mode": {
    "name": "ipython",
    "version": 3
   },
   "file_extension": ".py",
   "mimetype": "text/x-python",
   "name": "python",
   "nbconvert_exporter": "python",
   "pygments_lexer": "ipython3",
   "version": "3.9.13"
  }
 },
 "nbformat": 4,
 "nbformat_minor": 5
}
