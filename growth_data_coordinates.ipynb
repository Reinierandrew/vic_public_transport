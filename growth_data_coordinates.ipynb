{
 "cells": [
  {
   "cell_type": "code",
   "execution_count": 16,
   "metadata": {},
   "outputs": [],
   "source": [
    "# Growth Area Coordinates\n",
    "import pandas as pd\n",
    "import requests\n",
    "import json\n",
    "import hvplot.pandas\n",
    "from config import geoapify_key"
   ]
  },
  {
   "cell_type": "code",
   "execution_count": 17,
   "metadata": {},
   "outputs": [],
   "source": [
    "growth_data = pd.read_csv(\"Output/grmelbourne_growth_byarea.csv\")\n",
    "ptv_data = pd.read_csv(\"Output/PTV_suburb.csv\")\n",
    "suburb_list = pd.DataFrame (growth_data[[\"Area Name\"]])\n",
    "suburb_list[\"Lat\"] = \"\"\n",
    "suburb_list[\"Lon\"] = \"\"\n",
    "\n",
    "# suburb_list=suburb_list.sample(10)\n"
   ]
  },
  {
   "cell_type": "code",
   "execution_count": 18,
   "metadata": {},
   "outputs": [
    {
     "name": "stdout",
     "output_type": "stream",
     "text": [
      "Coordinates for Brunswick,Vic,Australia fetched...\n",
      "Coordinates for Brunswick East,Vic,Australia fetched...\n",
      "Coordinates for Brunswick West,Vic,Australia fetched...\n",
      "Coordinates for Coburg,Vic,Australia fetched...\n",
      "Coordinates for Pascoe Vale South,Vic,Australia fetched...\n",
      "Coordinates for Alphington - Fairfield,Vic,Australia fetched...\n",
      "Coordinates for Northcote,Vic,Australia fetched...\n",
      "Coordinates for Thornbury,Vic,Australia fetched...\n",
      "Coordinates for Ascot Vale,Vic,Australia fetched...\n",
      "Coordinates for Essendon,Vic,Australia fetched...\n",
      "Coordinates for Flemington,Vic,Australia fetched...\n",
      "Coordinates for Moonee Ponds,Vic,Australia fetched...\n",
      "Coordinates for Carlton,Vic,Australia fetched...\n",
      "Coordinates for Docklands,Vic,Australia fetched...\n",
      "Coordinates for East Melbourne,Vic,Australia fetched...\n",
      "Coordinates for Flemington Racecourse,Vic,Australia fetched...\n",
      "Coordinates for Kensington,Vic,Australia fetched...\n",
      "Coordinates for West Melbourne,Vic,Australia fetched...\n",
      "Coordinates for North Melbourne,Vic,Australia fetched...\n",
      "Coordinates for Parkville,Vic,Australia fetched...\n",
      "Coordinates for Southbank,Vic,Australia fetched...\n",
      "Coordinates for Albert Park,Vic,Australia fetched...\n",
      "Coordinates for Elwood,Vic,Australia fetched...\n",
      "Coordinates for Port Melbourne,Vic,Australia fetched...\n",
      "Coordinates for Port Melbourne Industrial,Vic,Australia fetched...\n",
      "Coordinates for South Melbourne,Vic,Australia fetched...\n",
      "Coordinates for St Kilda,Vic,Australia fetched...\n",
      "Coordinates for St Kilda East,Vic,Australia fetched...\n",
      "Coordinates for Armadale,Vic,Australia fetched...\n",
      "Coordinates for Prahran,Vic,Australia fetched...\n",
      "Coordinates for Toorak,Vic,Australia fetched...\n",
      "Coordinates for Abbotsford,Vic,Australia fetched...\n",
      "Coordinates for Carlton North,Vic,Australia fetched...\n",
      "Coordinates for Collingwood,Vic,Australia fetched...\n",
      "Coordinates for Fitzroy,Vic,Australia fetched...\n",
      "Coordinates for Fitzroy North,Vic,Australia fetched...\n",
      "Coordinates for Richmond,Vic,Australia fetched...\n",
      "Coordinates for Ashburton,Vic,Australia fetched...\n",
      "Coordinates for Balwyn,Vic,Australia fetched...\n",
      "Coordinates for Balwyn North,Vic,Australia fetched...\n",
      "Coordinates for Camberwell,Vic,Australia fetched...\n",
      "Coordinates for Glen Iris,Vic,Australia fetched...\n",
      "Coordinates for Hawthorn,Vic,Australia fetched...\n",
      "Coordinates for Hawthorn East,Vic,Australia fetched...\n",
      "Coordinates for Kew,Vic,Australia fetched...\n",
      "Coordinates for Kew East,Vic,Australia fetched...\n",
      "Coordinates for Surrey Hills (West) - Canterbury,Vic,Australia fetched...\n",
      "Coordinates for Bulleen,Vic,Australia fetched...\n",
      "Coordinates for Doncaster,Vic,Australia fetched...\n",
      "Coordinates for Templestowe,Vic,Australia fetched...\n",
      "Coordinates for Templestowe Lower,Vic,Australia fetched...\n",
      "Coordinates for Doncaster East (North),Vic,Australia fetched...\n",
      "Coordinates for Doncaster East (South),Vic,Australia fetched...\n",
      "Coordinates for Blackburn,Vic,Australia fetched...\n",
      "Coordinates for Blackburn South,Vic,Australia fetched...\n",
      "Coordinates for Box Hill,Vic,Australia fetched...\n"
     ]
    }
   ],
   "source": [
    "base_url = \"https://api.geoapify.com/v1/geocode/search\"\n",
    "params = {\n",
    "    \"apiKey\":geoapify_key,\n",
    "    \"format\":\"json\"\n",
    "    # \"filter\":\"rect:144.16081518870078,-37.3613122327737,146.47573481130252,-38.5354962411197\"\n",
    "}\n",
    "\n",
    "for index, row in suburb_list.iterrows():\n",
    "    area = row[\"Area Name\"] + \",Vic,Australia\"\n",
    "    params[\"text\"] = f\"{area}\"\n",
    "    response = requests.get(base_url, params=params).json()\n",
    "    # response = response.json()\n",
    "    suburb_list.loc[index, \"Lat\"] = response[\"results\"][0][\"lat\"]\n",
    "    suburb_list.loc[index, \"Lon\"] = response[\"results\"][0][\"lon\"]\n",
    "    print(f\"Coordinates for {area} fetched...\")\n",
    "suburb_list.head()"
   ]
  },
  {
   "cell_type": "code",
   "execution_count": null,
   "metadata": {},
   "outputs": [],
   "source": []
  }
 ],
 "metadata": {
  "kernelspec": {
   "display_name": "pythondata",
   "language": "python",
   "name": "python3"
  },
  "language_info": {
   "codemirror_mode": {
    "name": "ipython",
    "version": 3
   },
   "file_extension": ".py",
   "mimetype": "text/x-python",
   "name": "python",
   "nbconvert_exporter": "python",
   "pygments_lexer": "ipython3",
   "version": "3.7.7"
  },
  "orig_nbformat": 4,
  "vscode": {
   "interpreter": {
    "hash": "97e4e3bd698041cec7950108a51681a35adad8e0ac92ce206a32a8d5512553d1"
   }
  }
 },
 "nbformat": 4,
 "nbformat_minor": 2
}
