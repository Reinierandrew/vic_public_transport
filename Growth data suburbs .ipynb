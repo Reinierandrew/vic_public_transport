{
 "cells": [
  {
   "cell_type": "code",
   "execution_count": 5,
   "metadata": {},
   "outputs": [
    {
     "data": {
      "text/html": [
       "<div>\n",
       "<style scoped>\n",
       "    .dataframe tbody tr th:only-of-type {\n",
       "        vertical-align: middle;\n",
       "    }\n",
       "\n",
       "    .dataframe tbody tr th {\n",
       "        vertical-align: top;\n",
       "    }\n",
       "\n",
       "    .dataframe thead th {\n",
       "        text-align: right;\n",
       "    }\n",
       "</style>\n",
       "<table border=\"1\" class=\"dataframe\">\n",
       "  <thead>\n",
       "    <tr style=\"text-align: right;\">\n",
       "      <th></th>\n",
       "      <th>Row Labels</th>\n",
       "      <th>2016</th>\n",
       "      <th>2021</th>\n",
       "      <th>2026</th>\n",
       "      <th>2031</th>\n",
       "      <th>2036</th>\n",
       "    </tr>\n",
       "  </thead>\n",
       "  <tbody>\n",
       "    <tr>\n",
       "      <th>0</th>\n",
       "      <td>Abbotsford</td>\n",
       "      <td>8770</td>\n",
       "      <td>11197</td>\n",
       "      <td>12103</td>\n",
       "      <td>13074</td>\n",
       "      <td>14263</td>\n",
       "    </tr>\n",
       "    <tr>\n",
       "      <th>1</th>\n",
       "      <td>Airport West</td>\n",
       "      <td>7903</td>\n",
       "      <td>8716</td>\n",
       "      <td>9480</td>\n",
       "      <td>10257</td>\n",
       "      <td>11000</td>\n",
       "    </tr>\n",
       "    <tr>\n",
       "      <th>2</th>\n",
       "      <td>Albert Park</td>\n",
       "      <td>16490</td>\n",
       "      <td>18013</td>\n",
       "      <td>19094</td>\n",
       "      <td>19906</td>\n",
       "      <td>20797</td>\n",
       "    </tr>\n",
       "    <tr>\n",
       "      <th>3</th>\n",
       "      <td>Alphington</td>\n",
       "      <td>9434</td>\n",
       "      <td>10091</td>\n",
       "      <td>10702</td>\n",
       "      <td>11353</td>\n",
       "      <td>12046</td>\n",
       "    </tr>\n",
       "    <tr>\n",
       "      <th>4</th>\n",
       "      <td>Altona</td>\n",
       "      <td>13206</td>\n",
       "      <td>14245</td>\n",
       "      <td>15099</td>\n",
       "      <td>15926</td>\n",
       "      <td>16739</td>\n",
       "    </tr>\n",
       "  </tbody>\n",
       "</table>\n",
       "</div>"
      ],
      "text/plain": [
       "     Row Labels   2016   2021   2026   2031   2036\n",
       "0    Abbotsford   8770  11197  12103  13074  14263\n",
       "1  Airport West   7903   8716   9480  10257  11000\n",
       "2   Albert Park  16490  18013  19094  19906  20797\n",
       "3    Alphington   9434  10091  10702  11353  12046\n",
       "4        Altona  13206  14245  15099  15926  16739"
      ]
     },
     "execution_count": 5,
     "metadata": {},
     "output_type": "execute_result"
    }
   ],
   "source": [
    "# Suburb growth data Victoria \n",
    "# Import and forma a dataframe/csv for use in further analysis\n",
    "import pandas as pd\n",
    "\n",
    "\n",
    "growth_data_to_use = pd.read_csv(\"Resources/suburb_growth_data.csv\")\n",
    "growth_data_to_use.head()"
   ]
  },
  {
   "cell_type": "code",
   "execution_count": 6,
   "metadata": {},
   "outputs": [
    {
     "data": {
      "text/plain": [
       "Row Labels    object\n",
       "2016           int64\n",
       "2021           int64\n",
       "2026           int64\n",
       "2031           int64\n",
       "2036           int64\n",
       "dtype: object"
      ]
     },
     "execution_count": 6,
     "metadata": {},
     "output_type": "execute_result"
    }
   ],
   "source": [
    "# check dtypes to see if works in calculations etc.\n",
    "growth_data_to_use.dtypes   "
   ]
  },
  {
   "cell_type": "code",
   "execution_count": null,
   "metadata": {},
   "outputs": [],
   "source": []
  },
  {
   "cell_type": "code",
   "execution_count": 7,
   "metadata": {},
   "outputs": [
    {
     "data": {
      "text/plain": [
       "Area Name          object\n",
       "Total 2016          int64\n",
       "Total 2021          int64\n",
       "Total 2026          int64\n",
       "Total 2031          int64\n",
       "Total 2036          int64\n",
       "Total Growth        int64\n",
       "Total Growth %    float64\n",
       "dtype: object"
      ]
     },
     "execution_count": 7,
     "metadata": {},
     "output_type": "execute_result"
    }
   ],
   "source": [
    "# Rename columns for better visual\n",
    "growth_data_to_use.rename(columns={\"Row Labels\": \"Area Name\"}, inplace=True)\n",
    "growth_data_to_use.rename(columns={\"2016\": \"Total 2016\"}, inplace=True)\n",
    "growth_data_to_use.rename(columns={\"2021\": \"Total 2021\"}, inplace=True)\n",
    "growth_data_to_use.rename(columns={\"2026\": \"Total 2026\"}, inplace=True)\n",
    "growth_data_to_use.rename(columns={\"2031\": \"Total 2031\"}, inplace=True)\n",
    "growth_data_to_use.rename(columns={\"2036\": \"Total 2036\"}, inplace=True)\n",
    "\n",
    "\n",
    "# dAdd columns calculating growth and growth %\n",
    "growth_data_to_use[\"Total Growth\"] = growth_data_to_use[\"Total 2036\"] - growth_data_to_use[\"Total 2016\"]\n",
    "growth_data_to_use[\"Total Growth %\"] = growth_data_to_use[\"Total Growth\"] / growth_data_to_use[\"Total 2016\"]\n",
    "growth_data_to_use.dtypes"
   ]
  },
  {
   "cell_type": "code",
   "execution_count": 8,
   "metadata": {},
   "outputs": [],
   "source": [
    "\n",
    "\n",
    "# Remove any zero data rows\n",
    "growth_data_to_use = growth_data_to_use.loc[growth_data_to_use[\"Total Growth\"]>0]\n",
    "\n",
    "growth_data_to_use.to_csv(\"Output/grmelbourne_growth_byarea.csv\")"
   ]
  },
  {
   "cell_type": "code",
   "execution_count": null,
   "metadata": {},
   "outputs": [],
   "source": []
  }
 ],
 "metadata": {
  "kernelspec": {
   "display_name": "pythondata",
   "language": "python",
   "name": "python3"
  },
  "language_info": {
   "codemirror_mode": {
    "name": "ipython",
    "version": 3
   },
   "file_extension": ".py",
   "mimetype": "text/x-python",
   "name": "python",
   "nbconvert_exporter": "python",
   "pygments_lexer": "ipython3",
   "version": "3.7.7"
  },
  "orig_nbformat": 4,
  "vscode": {
   "interpreter": {
    "hash": "97e4e3bd698041cec7950108a51681a35adad8e0ac92ce206a32a8d5512553d1"
   }
  }
 },
 "nbformat": 4,
 "nbformat_minor": 2
}
