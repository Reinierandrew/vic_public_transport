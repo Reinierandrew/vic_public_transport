{
 "cells": [
  {
   "cell_type": "code",
   "execution_count": 1,
   "id": "15398c83",
   "metadata": {},
   "outputs": [],
   "source": [
    "# Dependencies\n",
    "import requests\n",
    "import json\n",
    "\n",
    "# Import the API key\n",
    "from config import geoapify_key"
   ]
  },
  {
   "cell_type": "code",
   "execution_count": null,
   "id": "df2e5619",
   "metadata": {},
   "outputs": [],
   "source": [
    "populated_place.suburb"
   ]
  },
  {
   "cell_type": "code",
   "execution_count": 4,
   "id": "18d39226",
   "metadata": {},
   "outputs": [
    {
     "name": "stdout",
     "output_type": "stream",
     "text": [
      "-37.8142176\n",
      "144.9631608\n"
     ]
    }
   ],
   "source": [
    "# YOUR CODE HERE\n",
    "# Target city\n",
    "target_city = \"Melbourne, Australia\"\n",
    "\n",
    "# Build the endpoint URL\n",
    "target_url = f\"https://api.geoapify.com/v1/geocode/search?text={target_city}&format=json&apiKey={geoapify_key}\"\n",
    "# Run a request to endpoint and convert result to json\n",
    "geo_data = requests.get(target_url).json()\n",
    "\n",
    "# Print the json\n",
    "# print(geo_data)\n",
    "# print(len(geo_data))\n",
    "# Extract latitude and longitude\n",
    "latm = geo_data[\"results\"][0][\"lat\"]\n",
    "lonm = geo_data[\"results\"][0][\"lon\"]\n",
    "print(latm)\n",
    "print(lonm)"
   ]
  },
  {
   "cell_type": "code",
   "execution_count": 33,
   "id": "7ece06f4",
   "metadata": {},
   "outputs": [
    {
     "name": "stdout",
     "output_type": "stream",
     "text": [
      "https://api.geoapify.com/v2/places?categories=populated_place.suburb&limit=20&filter=circle%3A144.9631608%2C-37.8142176%2C25000&bias=proximity%3A144.9631608%2C-37.8142176&apiKey=dacc599daf1d4e87b576656534de517f\n",
      "Melbourne\n",
      "-37.8141705\n",
      "144.9655616\n",
      "211\n"
     ]
    }
   ],
   "source": [
    "# Set the parameters for the type of place\n",
    "categories = \"populated_place.suburb\"\n",
    "\n",
    "radius = 25000\n",
    "\n",
    "# Set the parameters for the type of search\n",
    "filters = f\"circle:{lonm},{latm},{radius}\"\n",
    "bias = f\"proximity:{lonm},{latm}\"\n",
    "limit = 20\n",
    "\n",
    "# set up a parameters dictionary\n",
    "params = {\n",
    "    \"categories\":categories,\n",
    "    \"limit\":limit,\n",
    "    \"filter\":filters,\n",
    "    \"bias\":bias,\n",
    "    \"apiKey\":geoapify_key    \n",
    "}\n",
    "#     \"conditions\":conditions,\n",
    "# Set base URL\n",
    "base_url = \"https://api.geoapify.com/v2/places\"\n",
    "\n",
    "# run a request using our params dictionary\n",
    "response = requests.get(base_url, params=params)\n",
    "print(response.url)\n",
    "places_data = response.json()\n",
    "\n",
    "# Print the json (pretty printed)\n",
    "# print(json.dumps(places_data, indent=4, sort_keys=True))\n",
    "distance =places_data[\"features\"][1][\"properties\"][\"distance\"]\n",
    "lati =places_data[\"features\"][1][\"properties\"][\"lat\"]\n",
    "longi =places_data[\"features\"][1][\"properties\"][\"lon\"]\n",
    "suburb = places_data[\"features\"][1][\"properties\"][\"suburb\"]\n",
    "print(suburb)\n",
    "print(lati)\n",
    "print(longi)\n",
    "print(distance)"
   ]
  },
  {
   "cell_type": "code",
   "execution_count": null,
   "id": "3962eb5a",
   "metadata": {},
   "outputs": [],
   "source": []
  }
 ],
 "metadata": {
  "kernelspec": {
   "display_name": "Python 3 (ipykernel)",
   "language": "python",
   "name": "python3"
  },
  "language_info": {
   "codemirror_mode": {
    "name": "ipython",
    "version": 3
   },
   "file_extension": ".py",
   "mimetype": "text/x-python",
   "name": "python",
   "nbconvert_exporter": "python",
   "pygments_lexer": "ipython3",
   "version": "3.9.13"
  }
 },
 "nbformat": 4,
 "nbformat_minor": 5
}
